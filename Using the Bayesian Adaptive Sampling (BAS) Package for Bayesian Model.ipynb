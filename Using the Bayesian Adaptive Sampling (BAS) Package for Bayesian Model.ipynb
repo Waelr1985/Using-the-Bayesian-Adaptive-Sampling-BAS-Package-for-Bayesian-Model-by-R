{
 "cells": [
  {
   "cell_type": "code",
   "execution_count": 1,
   "id": "dc0e797a",
   "metadata": {},
   "outputs": [
    {
     "name": "stdout",
     "output_type": "stream",
     "text": [
      "\n",
      "  There is a binary version available but the source version is later:\n",
      "    binary source needs_compilation\n",
      "BAS  1.5.5  1.6.0              TRUE\n",
      "\n",
      "  Binaries will be installed\n",
      "package 'BAS' successfully unpacked and MD5 sums checked\n",
      "\n",
      "The downloaded binary packages are in\n",
      "\tC:\\Users\\waelr\\AppData\\Local\\Temp\\Rtmp0WIQHf\\downloaded_packages\n"
     ]
    }
   ],
   "source": [
    "install.packages(\"BAS\")"
   ]
  },
  {
   "cell_type": "code",
   "execution_count": 2,
   "id": "c0cc2155",
   "metadata": {},
   "outputs": [],
   "source": [
    "data(UScrime, package = \"MASS\")"
   ]
  },
  {
   "cell_type": "code",
   "execution_count": 3,
   "id": "95c0eeed",
   "metadata": {},
   "outputs": [],
   "source": [
    "UScrime[, -2] <- log(UScrime[, -2])"
   ]
  },
  {
   "cell_type": "code",
   "execution_count": 4,
   "id": "a2c839bd",
   "metadata": {},
   "outputs": [],
   "source": [
    "library(BAS)"
   ]
  },
  {
   "cell_type": "code",
   "execution_count": 5,
   "id": "29bedff2",
   "metadata": {},
   "outputs": [],
   "source": [
    "UScrimeData<-as.data.frame(UScrime)"
   ]
  },
  {
   "cell_type": "code",
   "execution_count": 6,
   "id": "90c3c920",
   "metadata": {},
   "outputs": [
    {
     "name": "stdout",
     "output_type": "stream",
     "text": [
      "'data.frame':\t47 obs. of  16 variables:\n",
      " $ M   : num  5.02 4.96 4.96 4.91 4.95 ...\n",
      " $ So  : int  1 0 1 0 0 0 1 1 1 0 ...\n",
      " $ Ed  : num  4.51 4.73 4.49 4.8 4.8 ...\n",
      " $ Po1 : num  4.06 4.63 3.81 5 4.69 ...\n",
      " $ Po2 : num  4.03 4.55 3.78 4.95 4.62 ...\n",
      " $ LF  : num  6.23 6.37 6.28 6.36 6.38 ...\n",
      " $ M.F : num  6.86 6.92 6.88 6.9 6.89 ...\n",
      " $ Pop : num  3.5 2.56 2.89 5.06 2.89 ...\n",
      " $ NW  : num  5.71 4.62 5.39 4.38 3.4 ...\n",
      " $ U1  : num  4.68 4.56 4.54 4.62 4.51 ...\n",
      " $ U2  : num  3.71 3.58 3.5 3.66 3 ...\n",
      " $ GDP : num  5.98 6.32 5.76 6.51 6.36 ...\n",
      " $ Ineq: num  5.56 5.27 5.52 5.12 5.16 ...\n",
      " $ Prob: num  -2.47 -3.52 -2.48 -4.15 -3.18 ...\n",
      " $ Time: num  3.27 3.23 3.19 3.4 3.06 ...\n",
      " $ y   : num  6.67 7.4 6.36 7.59 7.12 ...\n"
     ]
    }
   ],
   "source": [
    "str(UScrimeData)"
   ]
  },
  {
   "cell_type": "code",
   "execution_count": 7,
   "id": "099512c9",
   "metadata": {},
   "outputs": [
    {
     "data": {
      "text/plain": [
       "       M               So               Ed             Po1       \n",
       " Min.   :4.779   Min.   :0.0000   Min.   :4.466   Min.   :3.807  \n",
       " 1st Qu.:4.868   1st Qu.:0.0000   1st Qu.:4.580   1st Qu.:4.135  \n",
       " Median :4.913   Median :0.0000   Median :4.682   Median :4.357  \n",
       " Mean   :4.928   Mean   :0.3404   Mean   :4.654   Mean   :4.387  \n",
       " 3rd Qu.:4.984   3rd Qu.:1.0000   3rd Qu.:4.740   3rd Qu.:4.649  \n",
       " Max.   :5.176   Max.   :1.0000   Max.   :4.804   Max.   :5.112  \n",
       "      Po2              LF             M.F             Pop       \n",
       " Min.   :3.714   Min.   :6.174   Min.   :6.839   Min.   :1.099  \n",
       " 1st Qu.:4.069   1st Qu.:6.274   1st Qu.:6.872   1st Qu.:2.303  \n",
       " Median :4.290   Median :6.328   Median :6.884   Median :3.219  \n",
       " Mean   :4.329   Mean   :6.328   Mean   :6.890   Mean   :3.126  \n",
       " 3rd Qu.:4.575   3rd Qu.:6.385   3rd Qu.:6.900   3rd Qu.:3.725  \n",
       " Max.   :5.056   Max.   :6.463   Max.   :6.976   Max.   :5.124  \n",
       "       NW               U1              U2             GDP       \n",
       " Min.   :0.6931   Min.   :4.248   Min.   :2.996   Min.   :5.663  \n",
       " 1st Qu.:3.1781   1st Qu.:4.388   1st Qu.:3.314   1st Qu.:6.130  \n",
       " Median :4.3307   Median :4.522   Median :3.526   Median :6.286  \n",
       " Mean   :4.0443   Mean   :4.542   Mean   :3.496   Mean   :6.246  \n",
       " 3rd Qu.:4.8854   3rd Qu.:4.644   3rd Qu.:3.651   3rd Qu.:6.383  \n",
       " Max.   :6.0474   Max.   :4.956   Max.   :4.060   Max.   :6.535  \n",
       "      Ineq            Prob             Time             y        \n",
       " Min.   :4.836   Min.   :-4.976   Min.   :2.501   Min.   :5.835  \n",
       " 1st Qu.:5.109   1st Qu.:-3.421   1st Qu.:3.073   1st Qu.:6.490  \n",
       " Median :5.170   Median :-3.168   Median :3.250   Median :6.723  \n",
       " Mean   :5.247   Mean   :-3.178   Mean   :3.245   Mean   :6.725  \n",
       " 3rd Qu.:5.427   3rd Qu.:-2.911   3rd Qu.:3.416   3rd Qu.:6.964  \n",
       " Max.   :5.620   Max.   :-2.122   Max.   :3.784   Max.   :7.597  "
      ]
     },
     "metadata": {},
     "output_type": "display_data"
    }
   ],
   "source": [
    "summary(UScrimeData)\n"
   ]
  },
  {
   "cell_type": "code",
   "execution_count": 8,
   "id": "49376f5d",
   "metadata": {},
   "outputs": [
    {
     "name": "stderr",
     "output_type": "stream",
     "text": [
      "Warning message in FUN(X[[i]], ...):\n",
      "\"NaNs produced\"\n"
     ]
    }
   ],
   "source": [
    "UScrimeData[,-2] = log(UScrime[,-2])"
   ]
  },
  {
   "cell_type": "code",
   "execution_count": 9,
   "id": "bcd319c4",
   "metadata": {},
   "outputs": [
    {
     "name": "stderr",
     "output_type": "stream",
     "text": [
      "Warning message in bas.lm(y ~ ., data = UScrimeData, prior = \"BIC\", modelprior = uniform()):\n",
      "\"dropping  47 rows due to missing data\"\n"
     ]
    },
    {
     "ename": "ERROR",
     "evalue": "Error in bas.lm(y ~ ., data = UScrimeData, prior = \"BIC\", modelprior = uniform()): Sample size is zero; check data and subset arguments\n",
     "output_type": "error",
     "traceback": [
      "Error in bas.lm(y ~ ., data = UScrimeData, prior = \"BIC\", modelprior = uniform()): Sample size is zero; check data and subset arguments\nTraceback:\n",
      "1. bas.lm(y ~ ., data = UScrimeData, prior = \"BIC\", modelprior = uniform())",
      "2. stop(\"Sample size is zero; check data and subset arguments\")"
     ]
    }
   ],
   "source": [
    "USCrimeBas<- bas.lm(y ~ ., data = UScrimeData,prior = 'BIC', modelprior = uniform())\n"
   ]
  },
  {
   "cell_type": "code",
   "execution_count": 10,
   "id": "f8190bd9",
   "metadata": {},
   "outputs": [],
   "source": [
    "crime.ZS <- bas.lm(y ~ .,\n",
    "  data = UScrime,\n",
    "  prior = \"ZS-null\",\n",
    "  modelprior = uniform(), initprobs = \"eplogp\",\n",
    "  force.heredity = FALSE, pivot = TRUE\n",
    ")"
   ]
  },
  {
   "cell_type": "code",
   "execution_count": 11,
   "id": "fe9698fc",
   "metadata": {},
   "outputs": [
    {
     "data": {
      "image/png": "[encoded data removed]",
      "text/plain": [
       "Plot with title \"\""
      ]
     },
     "metadata": {
      "image/png": {
       "height": 420,
       "width": 420
      }
     },
     "output_type": "display_data"
    },
    {
     "data": {
      "image/png": "[encoded data removed]",
      "text/plain": [
       "plot without title"
      ]
     },
     "metadata": {
      "image/png": {
       "height": 420,
       "width": 420
      }
     },
     "output_type": "display_data"
    },
    {
     "data": {
      "image/png": "[encoded data removed]",
      "text/plain": [
       "Plot with title \"\""
      ]
     },
     "metadata": {
      "image/png": {
       "height": 420,
       "width": 420
      }
     },
     "output_type": "display_data"
    },
    {
     "data": {
      "image/png": "[encoded data removed]",
      "text/plain": [
       "Plot with title \"\""
      ]
     },
     "metadata": {
      "image/png": {
       "height": 420,
       "width": 420
      }
     },
     "output_type": "display_data"
    }
   ],
   "source": [
    "plot(crime.ZS, ask = F)"
   ]
  },
  {
   "cell_type": "code",
   "execution_count": 12,
   "id": "3904f2ab",
   "metadata": {},
   "outputs": [
    {
     "data": {
      "image/png": "[encoded data removed]",
      "text/plain": [
       "Plot with title \"\""
      ]
     },
     "metadata": {
      "image/png": {
       "height": 420,
       "width": 420
      }
     },
     "output_type": "display_data"
    }
   ],
   "source": [
    "plot(crime.ZS, which = 4, ask = FALSE, caption = \"\", sub.caption = \"\")"
   ]
  },
  {
   "cell_type": "code",
   "execution_count": 13,
   "id": "170be42e",
   "metadata": {},
   "outputs": [
    {
     "data": {
      "text/plain": [
       "\n",
       "Call:\n",
       "bas.lm(formula = y ~ ., data = UScrime, prior = \"ZS-null\", modelprior = uniform(), \n",
       "    initprobs = \"eplogp\", force.heredity = FALSE, pivot = TRUE)\n",
       "\n",
       "\n",
       " Marginal Posterior Inclusion Probabilities: \n",
       "Intercept          M         So         Ed        Po1        Po2         LF  \n",
       "   1.0000     0.8536     0.2737     0.9747     0.6652     0.4490     0.2022  \n",
       "      M.F        Pop         NW         U1         U2        GDP       Ineq  \n",
       "   0.2050     0.3696     0.6944     0.2526     0.6149     0.3601     0.9965  \n",
       "     Prob       Time  \n",
       "   0.8992     0.3718  "
      ]
     },
     "metadata": {},
     "output_type": "display_data"
    }
   ],
   "source": [
    "crime.ZS"
   ]
  },
  {
   "cell_type": "code",
   "execution_count": 14,
   "id": "e01ddc75",
   "metadata": {},
   "outputs": [
    {
     "data": {
      "text/html": [
       "<table>\n",
       "<thead><tr><th></th><th scope=col>P(B != 0 | Y)</th><th scope=col>model 1</th><th scope=col>model 2</th><th scope=col>model 3</th><th scope=col>model 4</th><th scope=col>model 5</th></tr></thead>\n",
       "<tbody>\n",
       "\t<tr><th scope=row>Intercept</th><td>1.0000000 </td><td> 1.00000  </td><td> 1.0000000</td><td> 1.0000000</td><td> 1.000000 </td><td> 1.0000000</td></tr>\n",
       "\t<tr><th scope=row>M</th><td>0.8535720 </td><td> 1.00000  </td><td> 1.0000000</td><td> 1.0000000</td><td> 1.000000 </td><td> 1.0000000</td></tr>\n",
       "\t<tr><th scope=row>So</th><td>0.2737083 </td><td> 0.00000  </td><td> 0.0000000</td><td> 0.0000000</td><td> 0.000000 </td><td> 0.0000000</td></tr>\n",
       "\t<tr><th scope=row>Ed</th><td>0.9746605 </td><td> 1.00000  </td><td> 1.0000000</td><td> 1.0000000</td><td> 1.000000 </td><td> 1.0000000</td></tr>\n",
       "\t<tr><th scope=row>Po1</th><td>0.6651553 </td><td> 1.00000  </td><td> 1.0000000</td><td> 0.0000000</td><td> 1.000000 </td><td> 1.0000000</td></tr>\n",
       "\t<tr><th scope=row>Po2</th><td>0.4490097 </td><td> 0.00000  </td><td> 0.0000000</td><td> 1.0000000</td><td> 0.000000 </td><td> 0.0000000</td></tr>\n",
       "\t<tr><th scope=row>LF</th><td>0.2022374 </td><td> 0.00000  </td><td> 0.0000000</td><td> 0.0000000</td><td> 0.000000 </td><td> 0.0000000</td></tr>\n",
       "\t<tr><th scope=row>M.F</th><td>0.2049659 </td><td> 0.00000  </td><td> 0.0000000</td><td> 0.0000000</td><td> 0.000000 </td><td> 0.0000000</td></tr>\n",
       "\t<tr><th scope=row>Pop</th><td>0.3696150 </td><td> 0.00000  </td><td> 0.0000000</td><td> 0.0000000</td><td> 1.000000 </td><td> 0.0000000</td></tr>\n",
       "\t<tr><th scope=row>NW</th><td>0.6944069 </td><td> 1.00000  </td><td> 1.0000000</td><td> 1.0000000</td><td> 1.000000 </td><td> 0.0000000</td></tr>\n",
       "\t<tr><th scope=row>U1</th><td>0.2525834 </td><td> 0.00000  </td><td> 0.0000000</td><td> 0.0000000</td><td> 0.000000 </td><td> 0.0000000</td></tr>\n",
       "\t<tr><th scope=row>U2</th><td>0.6149388 </td><td> 1.00000  </td><td> 1.0000000</td><td> 1.0000000</td><td> 1.000000 </td><td> 1.0000000</td></tr>\n",
       "\t<tr><th scope=row>GDP</th><td>0.3601179 </td><td> 0.00000  </td><td> 0.0000000</td><td> 0.0000000</td><td> 0.000000 </td><td> 0.0000000</td></tr>\n",
       "\t<tr><th scope=row>Ineq</th><td>0.9965359 </td><td> 1.00000  </td><td> 1.0000000</td><td> 1.0000000</td><td> 1.000000 </td><td> 1.0000000</td></tr>\n",
       "\t<tr><th scope=row>Prob</th><td>0.8991841 </td><td> 1.00000  </td><td> 1.0000000</td><td> 1.0000000</td><td> 1.000000 </td><td> 1.0000000</td></tr>\n",
       "\t<tr><th scope=row>Time</th><td>0.3717976 </td><td> 1.00000  </td><td> 0.0000000</td><td> 0.0000000</td><td> 0.000000 </td><td> 0.0000000</td></tr>\n",
       "\t<tr><th scope=row>BF</th><td>       NA </td><td> 1.00000  </td><td> 0.9416178</td><td> 0.6369712</td><td> 0.594453 </td><td> 0.5301269</td></tr>\n",
       "\t<tr><th scope=row>PostProbs</th><td>       NA </td><td> 0.01820  </td><td> 0.0172000</td><td> 0.0116000</td><td> 0.010800 </td><td> 0.0097000</td></tr>\n",
       "\t<tr><th scope=row>R2</th><td>       NA </td><td> 0.84200  </td><td> 0.8265000</td><td> 0.8229000</td><td> 0.837500 </td><td> 0.8046000</td></tr>\n",
       "\t<tr><th scope=row>dim</th><td>       NA </td><td> 9.00000  </td><td> 8.0000000</td><td> 8.0000000</td><td> 9.000000 </td><td> 7.0000000</td></tr>\n",
       "\t<tr><th scope=row>logmarg</th><td>       NA </td><td>23.65111  </td><td>23.5909572</td><td>23.2000822</td><td>23.130999 </td><td>23.0164741</td></tr>\n",
       "</tbody>\n",
       "</table>\n"
      ],
      "text/latex": [
       "\\begin{tabular}{r|llllll}\n",
       "  & P(B != 0 \\textbar{} Y) & model 1 & model 2 & model 3 & model 4 & model 5\\\\\n",
       "\\hline\n",
       "\tIntercept & 1.0000000  &  1.00000   &  1.0000000 &  1.0000000 &  1.000000  &  1.0000000\\\\\n",
       "\tM & 0.8535720  &  1.00000   &  1.0000000 &  1.0000000 &  1.000000  &  1.0000000\\\\\n",
       "\tSo & 0.2737083  &  0.00000   &  0.0000000 &  0.0000000 &  0.000000  &  0.0000000\\\\\n",
       "\tEd & 0.9746605  &  1.00000   &  1.0000000 &  1.0000000 &  1.000000  &  1.0000000\\\\\n",
       "\tPo1 & 0.6651553  &  1.00000   &  1.0000000 &  0.0000000 &  1.000000  &  1.0000000\\\\\n",
       "\tPo2 & 0.4490097  &  0.00000   &  0.0000000 &  1.0000000 &  0.000000  &  0.0000000\\\\\n",
       "\tLF & 0.2022374  &  0.00000   &  0.0000000 &  0.0000000 &  0.000000  &  0.0000000\\\\\n",
       "\tM.F & 0.2049659  &  0.00000   &  0.0000000 &  0.0000000 &  0.000000  &  0.0000000\\\\\n",
       "\tPop & 0.3696150  &  0.00000   &  0.0000000 &  0.0000000 &  1.000000  &  0.0000000\\\\\n",
       "\tNW & 0.6944069  &  1.00000   &  1.0000000 &  1.0000000 &  1.000000  &  0.0000000\\\\\n",
       "\tU1 & 0.2525834  &  0.00000   &  0.0000000 &  0.0000000 &  0.000000  &  0.0000000\\\\\n",
       "\tU2 & 0.6149388  &  1.00000   &  1.0000000 &  1.0000000 &  1.000000  &  1.0000000\\\\\n",
       "\tGDP & 0.3601179  &  0.00000   &  0.0000000 &  0.0000000 &  0.000000  &  0.0000000\\\\\n",
       "\tIneq & 0.9965359  &  1.00000   &  1.0000000 &  1.0000000 &  1.000000  &  1.0000000\\\\\n",
       "\tProb & 0.8991841  &  1.00000   &  1.0000000 &  1.0000000 &  1.000000  &  1.0000000\\\\\n",
       "\tTime & 0.3717976  &  1.00000   &  0.0000000 &  0.0000000 &  0.000000  &  0.0000000\\\\\n",
       "\tBF &        NA  &  1.00000   &  0.9416178 &  0.6369712 &  0.594453  &  0.5301269\\\\\n",
       "\tPostProbs &        NA  &  0.01820   &  0.0172000 &  0.0116000 &  0.010800  &  0.0097000\\\\\n",
       "\tR2 &        NA  &  0.84200   &  0.8265000 &  0.8229000 &  0.837500  &  0.8046000\\\\\n",
       "\tdim &        NA  &  9.00000   &  8.0000000 &  8.0000000 &  9.000000  &  7.0000000\\\\\n",
       "\tlogmarg &        NA  & 23.65111   & 23.5909572 & 23.2000822 & 23.130999  & 23.0164741\\\\\n",
       "\\end{tabular}\n"
      ],
      "text/markdown": [
       "\n",
       "| <!--/--> | P(B != 0 | Y) | model 1 | model 2 | model 3 | model 4 | model 5 |\n",
       "|---|---|---|---|---|---|---|\n",
       "| Intercept | 1.0000000  |  1.00000   |  1.0000000 |  1.0000000 |  1.000000  |  1.0000000 |\n",
       "| M | 0.8535720  |  1.00000   |  1.0000000 |  1.0000000 |  1.000000  |  1.0000000 |\n",
       "| So | 0.2737083  |  0.00000   |  0.0000000 |  0.0000000 |  0.000000  |  0.0000000 |\n",
       "| Ed | 0.9746605  |  1.00000   |  1.0000000 |  1.0000000 |  1.000000  |  1.0000000 |\n",
       "| Po1 | 0.6651553  |  1.00000   |  1.0000000 |  0.0000000 |  1.000000  |  1.0000000 |\n",
       "| Po2 | 0.4490097  |  0.00000   |  0.0000000 |  1.0000000 |  0.000000  |  0.0000000 |\n",
       "| LF | 0.2022374  |  0.00000   |  0.0000000 |  0.0000000 |  0.000000  |  0.0000000 |\n",
       "| M.F | 0.2049659  |  0.00000   |  0.0000000 |  0.0000000 |  0.000000  |  0.0000000 |\n",
       "| Pop | 0.3696150  |  0.00000   |  0.0000000 |  0.0000000 |  1.000000  |  0.0000000 |\n",
       "| NW | 0.6944069  |  1.00000   |  1.0000000 |  1.0000000 |  1.000000  |  0.0000000 |\n",
       "| U1 | 0.2525834  |  0.00000   |  0.0000000 |  0.0000000 |  0.000000  |  0.0000000 |\n",
       "| U2 | 0.6149388  |  1.00000   |  1.0000000 |  1.0000000 |  1.000000  |  1.0000000 |\n",
       "| GDP | 0.3601179  |  0.00000   |  0.0000000 |  0.0000000 |  0.000000  |  0.0000000 |\n",
       "| Ineq | 0.9965359  |  1.00000   |  1.0000000 |  1.0000000 |  1.000000  |  1.0000000 |\n",
       "| Prob | 0.8991841  |  1.00000   |  1.0000000 |  1.0000000 |  1.000000  |  1.0000000 |\n",
       "| Time | 0.3717976  |  1.00000   |  0.0000000 |  0.0000000 |  0.000000  |  0.0000000 |\n",
       "| BF |        NA  |  1.00000   |  0.9416178 |  0.6369712 |  0.594453  |  0.5301269 |\n",
       "| PostProbs |        NA  |  0.01820   |  0.0172000 |  0.0116000 |  0.010800  |  0.0097000 |\n",
       "| R2 |        NA  |  0.84200   |  0.8265000 |  0.8229000 |  0.837500  |  0.8046000 |\n",
       "| dim |        NA  |  9.00000   |  8.0000000 |  8.0000000 |  9.000000  |  7.0000000 |\n",
       "| logmarg |        NA  | 23.65111   | 23.5909572 | 23.2000822 | 23.130999  | 23.0164741 |\n",
       "\n"
      ],
      "text/plain": [
       "          P(B != 0 | Y) model 1  model 2    model 3    model 4   model 5   \n",
       "Intercept 1.0000000      1.00000  1.0000000  1.0000000  1.000000  1.0000000\n",
       "M         0.8535720      1.00000  1.0000000  1.0000000  1.000000  1.0000000\n",
       "So        0.2737083      0.00000  0.0000000  0.0000000  0.000000  0.0000000\n",
       "Ed        0.9746605      1.00000  1.0000000  1.0000000  1.000000  1.0000000\n",
       "Po1       0.6651553      1.00000  1.0000000  0.0000000  1.000000  1.0000000\n",
       "Po2       0.4490097      0.00000  0.0000000  1.0000000  0.000000  0.0000000\n",
       "LF        0.2022374      0.00000  0.0000000  0.0000000  0.000000  0.0000000\n",
       "M.F       0.2049659      0.00000  0.0000000  0.0000000  0.000000  0.0000000\n",
       "Pop       0.3696150      0.00000  0.0000000  0.0000000  1.000000  0.0000000\n",
       "NW        0.6944069      1.00000  1.0000000  1.0000000  1.000000  0.0000000\n",
       "U1        0.2525834      0.00000  0.0000000  0.0000000  0.000000  0.0000000\n",
       "U2        0.6149388      1.00000  1.0000000  1.0000000  1.000000  1.0000000\n",
       "GDP       0.3601179      0.00000  0.0000000  0.0000000  0.000000  0.0000000\n",
       "Ineq      0.9965359      1.00000  1.0000000  1.0000000  1.000000  1.0000000\n",
       "Prob      0.8991841      1.00000  1.0000000  1.0000000  1.000000  1.0000000\n",
       "Time      0.3717976      1.00000  0.0000000  0.0000000  0.000000  0.0000000\n",
       "BF               NA      1.00000  0.9416178  0.6369712  0.594453  0.5301269\n",
       "PostProbs        NA      0.01820  0.0172000  0.0116000  0.010800  0.0097000\n",
       "R2               NA      0.84200  0.8265000  0.8229000  0.837500  0.8046000\n",
       "dim              NA      9.00000  8.0000000  8.0000000  9.000000  7.0000000\n",
       "logmarg          NA     23.65111 23.5909572 23.2000822 23.130999 23.0164741"
      ]
     },
     "metadata": {},
     "output_type": "display_data"
    }
   ],
   "source": [
    "options(width = 80)\n",
    "summary(crime.ZS)"
   ]
  },
  {
   "cell_type": "code",
   "execution_count": 15,
   "id": "4ada6263",
   "metadata": {},
   "outputs": [
    {
     "data": {
      "image/png": "[encoded data removed]",
      "text/plain": [
       "plot without title"
      ]
     },
     "metadata": {
      "image/png": {
       "height": 420,
       "width": 420
      }
     },
     "output_type": "display_data"
    }
   ],
   "source": [
    "image(crime.ZS, rotate = F)"
   ]
  },
  {
   "cell_type": "code",
   "execution_count": 16,
   "id": "42d86063",
   "metadata": {},
   "outputs": [],
   "source": [
    "coef.ZS <- coef(crime.ZS)"
   ]
  },
  {
   "cell_type": "code",
   "execution_count": 17,
   "id": "28b57679",
   "metadata": {},
   "outputs": [
    {
     "data": {
      "image/png": "[encoded data removed]",
      "text/plain": [
       "Plot with title \"Po1\""
      ]
     },
     "metadata": {
      "image/png": {
       "height": 420,
       "width": 420
      }
     },
     "output_type": "display_data"
    },
    {
     "data": {
      "image/png": "[encoded data removed]",
      "text/plain": [
       "Plot with title \"Po2\""
      ]
     },
     "metadata": {
      "image/png": {
       "height": 420,
       "width": 420
      }
     },
     "output_type": "display_data"
    }
   ],
   "source": [
    "plot(coef.ZS, subset = c(5:6), ask = F)"
   ]
  },
  {
   "cell_type": "code",
   "execution_count": 18,
   "id": "441ac23d",
   "metadata": {},
   "outputs": [
    {
     "data": {
      "text/plain": [
       "                  2.5%       97.5%        beta\n",
       "Intercept  6.669193231 6.781663059  6.72493620\n",
       "M          0.000000000 2.181127827  1.14359433\n",
       "So        -0.045688039 0.323791348  0.03547522\n",
       "Ed         0.601503164 3.176353242  1.85848834\n",
       "Po1        0.000000000 1.412292450  0.60067372\n",
       "Po2       -0.193354949 1.427566078  0.31841766\n",
       "LF        -0.543597787 0.947147369  0.05933737\n",
       "M.F       -2.089154553 2.066183506 -0.02702786\n",
       "Pop       -0.125046683 0.005510373 -0.02248283\n",
       "NW         0.000000000 0.164560274  0.06668437\n",
       "U1        -0.540163745 0.331648474 -0.02456854\n",
       "U2        -0.009035668 0.643933426  0.20702927\n",
       "GDP       -0.016635307 1.155552424  0.20625063\n",
       "Ineq       0.657998129 2.086829535  1.39012647\n",
       "Prob      -0.404756923 0.000000000 -0.21536203\n",
       "Time      -0.483499233 0.087079703 -0.08433479\n",
       "attr(,\"Probability\")\n",
       "[1] 0.95\n",
       "attr(,\"class\")\n",
       "[1] \"confint.bas\""
      ]
     },
     "metadata": {},
     "output_type": "display_data"
    }
   ],
   "source": [
    "confint(coef.ZS)"
   ]
  },
  {
   "cell_type": "code",
   "execution_count": 19,
   "id": "eca2d2b0",
   "metadata": {},
   "outputs": [
    {
     "data": {
      "text/plain": [
       "NULL"
      ]
     },
     "metadata": {},
     "output_type": "display_data"
    },
    {
     "data": {
      "image/png": "[encoded data removed]",
      "text/plain": [
       "plot without title"
      ]
     },
     "metadata": {
      "image/png": {
       "height": 420,
       "width": 420
      }
     },
     "output_type": "display_data"
    }
   ],
   "source": [
    "plot(confint(coef.ZS, parm = 2:16))"
   ]
  },
  {
   "cell_type": "code",
   "execution_count": 20,
   "id": "bda1b1f4",
   "metadata": {},
   "outputs": [
    {
     "data": {
      "text/plain": [
       "NULL"
      ]
     },
     "metadata": {},
     "output_type": "display_data"
    },
    {
     "data": {
      "image/png": "[encoded data removed]",
      "text/plain": [
       "plot without title"
      ]
     },
     "metadata": {
      "image/png": {
       "height": 420,
       "width": 420
      }
     },
     "output_type": "display_data"
    }
   ],
   "source": [
    "plot(confint(coef(crime.ZS, estimator = \"HPM\")))"
   ]
  },
  {
   "cell_type": "code",
   "execution_count": 21,
   "id": "5383a0bc",
   "metadata": {},
   "outputs": [
    {
     "data": {
      "text/plain": [
       "NULL"
      ]
     },
     "metadata": {},
     "output_type": "display_data"
    },
    {
     "data": {
      "image/png": "[encoded data removed]",
      "text/plain": [
       "plot without title"
      ]
     },
     "metadata": {
      "image/png": {
       "height": 420,
       "width": 420
      }
     },
     "output_type": "display_data"
    }
   ],
   "source": [
    "plot(confint(coef(crime.ZS, estimator = \"MPM\")))"
   ]
  },
  {
   "cell_type": "code",
   "execution_count": 22,
   "id": "4e8dd456",
   "metadata": {},
   "outputs": [
    {
     "data": {
      "text/html": [
       "<ol class=list-inline>\n",
       "\t<li>'fit'</li>\n",
       "\t<li>'Ybma'</li>\n",
       "\t<li>'Ypred'</li>\n",
       "\t<li>'postprobs'</li>\n",
       "\t<li>'se.fit'</li>\n",
       "\t<li>'se.pred'</li>\n",
       "\t<li>'se.bma.fit'</li>\n",
       "\t<li>'se.bma.pred'</li>\n",
       "\t<li>'df'</li>\n",
       "\t<li>'best'</li>\n",
       "\t<li>'bestmodel'</li>\n",
       "\t<li>'best.vars'</li>\n",
       "\t<li>'estimator'</li>\n",
       "</ol>\n"
      ],
      "text/latex": [
       "\\begin{enumerate*}\n",
       "\\item 'fit'\n",
       "\\item 'Ybma'\n",
       "\\item 'Ypred'\n",
       "\\item 'postprobs'\n",
       "\\item 'se.fit'\n",
       "\\item 'se.pred'\n",
       "\\item 'se.bma.fit'\n",
       "\\item 'se.bma.pred'\n",
       "\\item 'df'\n",
       "\\item 'best'\n",
       "\\item 'bestmodel'\n",
       "\\item 'best.vars'\n",
       "\\item 'estimator'\n",
       "\\end{enumerate*}\n"
      ],
      "text/markdown": [
       "1. 'fit'\n",
       "2. 'Ybma'\n",
       "3. 'Ypred'\n",
       "4. 'postprobs'\n",
       "5. 'se.fit'\n",
       "6. 'se.pred'\n",
       "7. 'se.bma.fit'\n",
       "8. 'se.bma.pred'\n",
       "9. 'df'\n",
       "10. 'best'\n",
       "11. 'bestmodel'\n",
       "12. 'best.vars'\n",
       "13. 'estimator'\n",
       "\n",
       "\n"
      ],
      "text/plain": [
       " [1] \"fit\"         \"Ybma\"        \"Ypred\"       \"postprobs\"   \"se.fit\"     \n",
       " [6] \"se.pred\"     \"se.bma.fit\"  \"se.bma.pred\" \"df\"          \"best\"       \n",
       "[11] \"bestmodel\"   \"best.vars\"   \"estimator\"  "
      ]
     },
     "metadata": {},
     "output_type": "display_data"
    }
   ],
   "source": [
    "muhat.BMA <- fitted(crime.ZS, estimator = \"BMA\")\n",
    "BMA <- predict(crime.ZS, estimator = \"BMA\")\n",
    "\n",
    "# predict has additional slots for fitted values under BMA, predictions under each model\n",
    "names(BMA)"
   ]
  },
  {
   "cell_type": "code",
   "execution_count": 23,
   "id": "bcee944c",
   "metadata": {},
   "outputs": [
    {
     "name": "stderr",
     "output_type": "stream",
     "text": [
      "Warning message in FUN(X[[i]], ...):\n",
      "\"NaNs produced\"\n"
     ]
    }
   ],
   "source": [
    "UScrimeData[,-2] = log(UScrime[,-2])"
   ]
  },
  {
   "cell_type": "code",
   "execution_count": 24,
   "id": "c7a01047",
   "metadata": {},
   "outputs": [
    {
     "data": {
      "text/plain": [
       "       M               So               Ed             Po1       \n",
       " Min.   :1.564   Min.   :0.0000   Min.   :1.496   Min.   :1.337  \n",
       " 1st Qu.:1.583   1st Qu.:0.0000   1st Qu.:1.522   1st Qu.:1.420  \n",
       " Median :1.592   Median :0.0000   Median :1.544   Median :1.472  \n",
       " Mean   :1.595   Mean   :0.3404   Mean   :1.538   Mean   :1.476  \n",
       " 3rd Qu.:1.606   3rd Qu.:1.0000   3rd Qu.:1.556   3rd Qu.:1.537  \n",
       " Max.   :1.644   Max.   :1.0000   Max.   :1.569   Max.   :1.632  \n",
       "                                                                 \n",
       "      Po2              LF             M.F             Pop         \n",
       " Min.   :1.312   Min.   :1.820   Min.   :1.923   Min.   :0.09405  \n",
       " 1st Qu.:1.403   1st Qu.:1.836   1st Qu.:1.927   1st Qu.:0.83403  \n",
       " Median :1.456   Median :1.845   Median :1.929   Median :1.16903  \n",
       " Mean   :1.463   Mean   :1.845   Mean   :1.930   Mean   :1.07596  \n",
       " 3rd Qu.:1.521   3rd Qu.:1.854   3rd Qu.:1.931   3rd Qu.:1.31503  \n",
       " Max.   :1.621   Max.   :1.866   Max.   :1.943   Max.   :1.63393  \n",
       "                                                                  \n",
       "       NW                U1              U2             GDP       \n",
       " Min.   :-0.3665   Min.   :1.447   Min.   :1.097   Min.   :1.734  \n",
       " 1st Qu.: 1.1563   1st Qu.:1.479   1st Qu.:1.198   1st Qu.:1.813  \n",
       " Median : 1.4657   Median :1.509   Median :1.260   Median :1.838  \n",
       " Mean   : 1.3353   Mean   :1.513   Mean   :1.249   Mean   :1.831  \n",
       " 3rd Qu.: 1.5862   3rd Qu.:1.536   3rd Qu.:1.295   3rd Qu.:1.854  \n",
       " Max.   : 1.7996   Max.   :1.601   Max.   :1.401   Max.   :1.877  \n",
       "                                                                  \n",
       "      Ineq            Prob          Time              y        \n",
       " Min.   :1.576   Min.   : NA   Min.   :0.9169   Min.   :1.764  \n",
       " 1st Qu.:1.631   1st Qu.: NA   1st Qu.:1.1226   1st Qu.:1.870  \n",
       " Median :1.643   Median : NA   Median :1.1788   Median :1.905  \n",
       " Mean   :1.657   Mean   :NaN   Mean   :1.1736   Mean   :1.904  \n",
       " 3rd Qu.:1.691   3rd Qu.: NA   3rd Qu.:1.2285   3rd Qu.:1.941  \n",
       " Max.   :1.726   Max.   : NA   Max.   :1.3308   Max.   :2.028  \n",
       "                 NA's   :47                                    "
      ]
     },
     "metadata": {},
     "output_type": "display_data"
    }
   ],
   "source": [
    "summary(UScrimeData)"
   ]
  },
  {
   "cell_type": "code",
   "execution_count": 25,
   "id": "e18d2727",
   "metadata": {},
   "outputs": [
    {
     "name": "stderr",
     "output_type": "stream",
     "text": [
      "Warning message in FUN(X[[i]], ...):\n",
      "\"NaNs produced\"\n"
     ]
    }
   ],
   "source": [
    "UScrimeData[,-2] = log(UScrime[,-2])\n"
   ]
  },
  {
   "cell_type": "code",
   "execution_count": null,
   "id": "f45fdedf",
   "metadata": {},
   "outputs": [],
   "source": []
  },
  {
   "cell_type": "code",
   "execution_count": 26,
   "id": "8fc0fd66",
   "metadata": {},
   "outputs": [
    {
     "name": "stderr",
     "output_type": "stream",
     "text": [
      "Warning message in sqrt(-1):\n",
      "\"NaNs produced\"\n"
     ]
    },
    {
     "data": {
      "text/html": [
       "NaN"
      ],
      "text/latex": [
       "NaN"
      ],
      "text/markdown": [
       "NaN"
      ],
      "text/plain": [
       "[1] NaN"
      ]
     },
     "metadata": {},
     "output_type": "display_data"
    }
   ],
   "source": [
    "sqrt(-1)"
   ]
  },
  {
   "cell_type": "code",
   "execution_count": 27,
   "id": "3e85a96b",
   "metadata": {},
   "outputs": [
    {
     "name": "stderr",
     "output_type": "stream",
     "text": [
      "\n",
      "Attaching package: 'MASS'\n",
      "\n",
      "\n",
      "The following object is masked _by_ '.GlobalEnv':\n",
      "\n",
      "    UScrime\n",
      "\n",
      "\n"
     ]
    }
   ],
   "source": [
    "library(MASS)"
   ]
  },
  {
   "cell_type": "code",
   "execution_count": 28,
   "id": "3262278b",
   "metadata": {},
   "outputs": [],
   "source": [
    "UScrimeData<-as.data.frame(UScrime)"
   ]
  },
  {
   "cell_type": "code",
   "execution_count": 29,
   "id": "b3bede17",
   "metadata": {},
   "outputs": [
    {
     "name": "stdout",
     "output_type": "stream",
     "text": [
      "'data.frame':\t47 obs. of  16 variables:\n",
      " $ M   : num  5.02 4.96 4.96 4.91 4.95 ...\n",
      " $ So  : int  1 0 1 0 0 0 1 1 1 0 ...\n",
      " $ Ed  : num  4.51 4.73 4.49 4.8 4.8 ...\n",
      " $ Po1 : num  4.06 4.63 3.81 5 4.69 ...\n",
      " $ Po2 : num  4.03 4.55 3.78 4.95 4.62 ...\n",
      " $ LF  : num  6.23 6.37 6.28 6.36 6.38 ...\n",
      " $ M.F : num  6.86 6.92 6.88 6.9 6.89 ...\n",
      " $ Pop : num  3.5 2.56 2.89 5.06 2.89 ...\n",
      " $ NW  : num  5.71 4.62 5.39 4.38 3.4 ...\n",
      " $ U1  : num  4.68 4.56 4.54 4.62 4.51 ...\n",
      " $ U2  : num  3.71 3.58 3.5 3.66 3 ...\n",
      " $ GDP : num  5.98 6.32 5.76 6.51 6.36 ...\n",
      " $ Ineq: num  5.56 5.27 5.52 5.12 5.16 ...\n",
      " $ Prob: num  -2.47 -3.52 -2.48 -4.15 -3.18 ...\n",
      " $ Time: num  3.27 3.23 3.19 3.4 3.06 ...\n",
      " $ y   : num  6.67 7.4 6.36 7.59 7.12 ...\n"
     ]
    }
   ],
   "source": [
    "str(UScrimeData)"
   ]
  },
  {
   "cell_type": "code",
   "execution_count": 30,
   "id": "b7a876d9",
   "metadata": {},
   "outputs": [
    {
     "data": {
      "text/plain": [
       "       M               So               Ed             Po1       \n",
       " Min.   :4.779   Min.   :0.0000   Min.   :4.466   Min.   :3.807  \n",
       " 1st Qu.:4.868   1st Qu.:0.0000   1st Qu.:4.580   1st Qu.:4.135  \n",
       " Median :4.913   Median :0.0000   Median :4.682   Median :4.357  \n",
       " Mean   :4.928   Mean   :0.3404   Mean   :4.654   Mean   :4.387  \n",
       " 3rd Qu.:4.984   3rd Qu.:1.0000   3rd Qu.:4.740   3rd Qu.:4.649  \n",
       " Max.   :5.176   Max.   :1.0000   Max.   :4.804   Max.   :5.112  \n",
       "      Po2              LF             M.F             Pop       \n",
       " Min.   :3.714   Min.   :6.174   Min.   :6.839   Min.   :1.099  \n",
       " 1st Qu.:4.069   1st Qu.:6.274   1st Qu.:6.872   1st Qu.:2.303  \n",
       " Median :4.290   Median :6.328   Median :6.884   Median :3.219  \n",
       " Mean   :4.329   Mean   :6.328   Mean   :6.890   Mean   :3.126  \n",
       " 3rd Qu.:4.575   3rd Qu.:6.385   3rd Qu.:6.900   3rd Qu.:3.725  \n",
       " Max.   :5.056   Max.   :6.463   Max.   :6.976   Max.   :5.124  \n",
       "       NW               U1              U2             GDP       \n",
       " Min.   :0.6931   Min.   :4.248   Min.   :2.996   Min.   :5.663  \n",
       " 1st Qu.:3.1781   1st Qu.:4.388   1st Qu.:3.314   1st Qu.:6.130  \n",
       " Median :4.3307   Median :4.522   Median :3.526   Median :6.286  \n",
       " Mean   :4.0443   Mean   :4.542   Mean   :3.496   Mean   :6.246  \n",
       " 3rd Qu.:4.8854   3rd Qu.:4.644   3rd Qu.:3.651   3rd Qu.:6.383  \n",
       " Max.   :6.0474   Max.   :4.956   Max.   :4.060   Max.   :6.535  \n",
       "      Ineq            Prob             Time             y        \n",
       " Min.   :4.836   Min.   :-4.976   Min.   :2.501   Min.   :5.835  \n",
       " 1st Qu.:5.109   1st Qu.:-3.421   1st Qu.:3.073   1st Qu.:6.490  \n",
       " Median :5.170   Median :-3.168   Median :3.250   Median :6.723  \n",
       " Mean   :5.247   Mean   :-3.178   Mean   :3.245   Mean   :6.725  \n",
       " 3rd Qu.:5.427   3rd Qu.:-2.911   3rd Qu.:3.416   3rd Qu.:6.964  \n",
       " Max.   :5.620   Max.   :-2.122   Max.   :3.784   Max.   :7.597  "
      ]
     },
     "metadata": {},
     "output_type": "display_data"
    }
   ],
   "source": [
    "summary(UScrimeData)"
   ]
  },
  {
   "cell_type": "code",
   "execution_count": 37,
   "id": "43b37aeb",
   "metadata": {},
   "outputs": [],
   "source": [
    "UScrimeData[,-2] <- log(UScrime[,-2])"
   ]
  },
  {
   "cell_type": "code",
   "execution_count": 38,
   "id": "ec8ff04e",
   "metadata": {},
   "outputs": [],
   "source": [
    "data(UScrime, package = \"MASS\")"
   ]
  },
  {
   "cell_type": "code",
   "execution_count": 39,
   "id": "f6bf53ae",
   "metadata": {},
   "outputs": [],
   "source": [
    "UScrime[, -2] <- log(UScrime[, -2])"
   ]
  },
  {
   "cell_type": "code",
   "execution_count": 40,
   "id": "a93cc180",
   "metadata": {},
   "outputs": [],
   "source": [
    "library(BAS)\n",
    "crime.ZS <- bas.lm(y ~ .,\n",
    "  data = UScrime,\n",
    "  prior = \"ZS-null\",\n",
    "  modelprior = uniform(), initprobs = \"eplogp\",\n",
    "  force.heredity = FALSE, pivot = TRUE\n",
    ")"
   ]
  },
  {
   "cell_type": "code",
   "execution_count": 41,
   "id": "0090c0cd",
   "metadata": {},
   "outputs": [
    {
     "data": {
      "image/png": "[encoded data removed]",
      "text/plain": [
       "Plot with title \"\""
      ]
     },
     "metadata": {
      "image/png": {
       "height": 420,
       "width": 420
      }
     },
     "output_type": "display_data"
    },
    {
     "data": {
      "image/png": "[encoded data removed]",
      "text/plain": [
       "plot without title"
      ]
     },
     "metadata": {
      "image/png": {
       "height": 420,
       "width": 420
      }
     },
     "output_type": "display_data"
    },
    {
     "data": {
      "image/png": "[encoded data removed]",
      "text/plain": [
       "Plot with title \"\""
      ]
     },
     "metadata": {
      "image/png": {
       "height": 420,
       "width": 420
      }
     },
     "output_type": "display_data"
    },
    {
     "data": {
      "image/png": "[encoded data removed]",
      "text/plain": [
       "Plot with title \"\""
      ]
     },
     "metadata": {
      "image/png": {
       "height": 420,
       "width": 420
      }
     },
     "output_type": "display_data"
    }
   ],
   "source": [
    "plot(crime.ZS, ask = F)"
   ]
  },
  {
   "cell_type": "code",
   "execution_count": 42,
   "id": "6f624f3a",
   "metadata": {},
   "outputs": [
    {
     "data": {
      "image/png": "[encoded data removed]",
      "text/plain": [
       "Plot with title \"\""
      ]
     },
     "metadata": {
      "image/png": {
       "height": 420,
       "width": 420
      }
     },
     "output_type": "display_data"
    }
   ],
   "source": [
    "plot(crime.ZS, which = 4, ask = FALSE, caption = \"\", sub.caption = \"\")"
   ]
  },
  {
   "cell_type": "code",
   "execution_count": 43,
   "id": "7858d741",
   "metadata": {},
   "outputs": [
    {
     "data": {
      "text/plain": [
       "\n",
       "Call:\n",
       "bas.lm(formula = y ~ ., data = UScrime, prior = \"ZS-null\", modelprior = uniform(), \n",
       "    initprobs = \"eplogp\", force.heredity = FALSE, pivot = TRUE)\n",
       "\n",
       "\n",
       " Marginal Posterior Inclusion Probabilities: \n",
       "Intercept          M         So         Ed        Po1        Po2         LF  \n",
       "   1.0000     0.8536     0.2737     0.9747     0.6652     0.4490     0.2022  \n",
       "      M.F        Pop         NW         U1         U2        GDP       Ineq  \n",
       "   0.2050     0.3696     0.6944     0.2526     0.6149     0.3601     0.9965  \n",
       "     Prob       Time  \n",
       "   0.8992     0.3718  "
      ]
     },
     "metadata": {},
     "output_type": "display_data"
    }
   ],
   "source": [
    "crime.ZS"
   ]
  },
  {
   "cell_type": "code",
   "execution_count": 44,
   "id": "6b85a09e",
   "metadata": {},
   "outputs": [
    {
     "data": {
      "text/html": [
       "<table>\n",
       "<thead><tr><th></th><th scope=col>P(B != 0 | Y)</th><th scope=col>model 1</th><th scope=col>model 2</th><th scope=col>model 3</th><th scope=col>model 4</th><th scope=col>model 5</th></tr></thead>\n",
       "<tbody>\n",
       "\t<tr><th scope=row>Intercept</th><td>1.0000000 </td><td> 1.00000  </td><td> 1.0000000</td><td> 1.0000000</td><td> 1.000000 </td><td> 1.0000000</td></tr>\n",
       "\t<tr><th scope=row>M</th><td>0.8535720 </td><td> 1.00000  </td><td> 1.0000000</td><td> 1.0000000</td><td> 1.000000 </td><td> 1.0000000</td></tr>\n",
       "\t<tr><th scope=row>So</th><td>0.2737083 </td><td> 0.00000  </td><td> 0.0000000</td><td> 0.0000000</td><td> 0.000000 </td><td> 0.0000000</td></tr>\n",
       "\t<tr><th scope=row>Ed</th><td>0.9746605 </td><td> 1.00000  </td><td> 1.0000000</td><td> 1.0000000</td><td> 1.000000 </td><td> 1.0000000</td></tr>\n",
       "\t<tr><th scope=row>Po1</th><td>0.6651553 </td><td> 1.00000  </td><td> 1.0000000</td><td> 0.0000000</td><td> 1.000000 </td><td> 1.0000000</td></tr>\n",
       "\t<tr><th scope=row>Po2</th><td>0.4490097 </td><td> 0.00000  </td><td> 0.0000000</td><td> 1.0000000</td><td> 0.000000 </td><td> 0.0000000</td></tr>\n",
       "\t<tr><th scope=row>LF</th><td>0.2022374 </td><td> 0.00000  </td><td> 0.0000000</td><td> 0.0000000</td><td> 0.000000 </td><td> 0.0000000</td></tr>\n",
       "\t<tr><th scope=row>M.F</th><td>0.2049659 </td><td> 0.00000  </td><td> 0.0000000</td><td> 0.0000000</td><td> 0.000000 </td><td> 0.0000000</td></tr>\n",
       "\t<tr><th scope=row>Pop</th><td>0.3696150 </td><td> 0.00000  </td><td> 0.0000000</td><td> 0.0000000</td><td> 1.000000 </td><td> 0.0000000</td></tr>\n",
       "\t<tr><th scope=row>NW</th><td>0.6944069 </td><td> 1.00000  </td><td> 1.0000000</td><td> 1.0000000</td><td> 1.000000 </td><td> 0.0000000</td></tr>\n",
       "\t<tr><th scope=row>U1</th><td>0.2525834 </td><td> 0.00000  </td><td> 0.0000000</td><td> 0.0000000</td><td> 0.000000 </td><td> 0.0000000</td></tr>\n",
       "\t<tr><th scope=row>U2</th><td>0.6149388 </td><td> 1.00000  </td><td> 1.0000000</td><td> 1.0000000</td><td> 1.000000 </td><td> 1.0000000</td></tr>\n",
       "\t<tr><th scope=row>GDP</th><td>0.3601179 </td><td> 0.00000  </td><td> 0.0000000</td><td> 0.0000000</td><td> 0.000000 </td><td> 0.0000000</td></tr>\n",
       "\t<tr><th scope=row>Ineq</th><td>0.9965359 </td><td> 1.00000  </td><td> 1.0000000</td><td> 1.0000000</td><td> 1.000000 </td><td> 1.0000000</td></tr>\n",
       "\t<tr><th scope=row>Prob</th><td>0.8991841 </td><td> 1.00000  </td><td> 1.0000000</td><td> 1.0000000</td><td> 1.000000 </td><td> 1.0000000</td></tr>\n",
       "\t<tr><th scope=row>Time</th><td>0.3717976 </td><td> 1.00000  </td><td> 0.0000000</td><td> 0.0000000</td><td> 0.000000 </td><td> 0.0000000</td></tr>\n",
       "\t<tr><th scope=row>BF</th><td>       NA </td><td> 1.00000  </td><td> 0.9416178</td><td> 0.6369712</td><td> 0.594453 </td><td> 0.5301269</td></tr>\n",
       "\t<tr><th scope=row>PostProbs</th><td>       NA </td><td> 0.01820  </td><td> 0.0172000</td><td> 0.0116000</td><td> 0.010800 </td><td> 0.0097000</td></tr>\n",
       "\t<tr><th scope=row>R2</th><td>       NA </td><td> 0.84200  </td><td> 0.8265000</td><td> 0.8229000</td><td> 0.837500 </td><td> 0.8046000</td></tr>\n",
       "\t<tr><th scope=row>dim</th><td>       NA </td><td> 9.00000  </td><td> 8.0000000</td><td> 8.0000000</td><td> 9.000000 </td><td> 7.0000000</td></tr>\n",
       "\t<tr><th scope=row>logmarg</th><td>       NA </td><td>23.65111  </td><td>23.5909572</td><td>23.2000822</td><td>23.130999 </td><td>23.0164741</td></tr>\n",
       "</tbody>\n",
       "</table>\n"
      ],
      "text/latex": [
       "\\begin{tabular}{r|llllll}\n",
       "  & P(B != 0 \\textbar{} Y) & model 1 & model 2 & model 3 & model 4 & model 5\\\\\n",
       "\\hline\n",
       "\tIntercept & 1.0000000  &  1.00000   &  1.0000000 &  1.0000000 &  1.000000  &  1.0000000\\\\\n",
       "\tM & 0.8535720  &  1.00000   &  1.0000000 &  1.0000000 &  1.000000  &  1.0000000\\\\\n",
       "\tSo & 0.2737083  &  0.00000   &  0.0000000 &  0.0000000 &  0.000000  &  0.0000000\\\\\n",
       "\tEd & 0.9746605  &  1.00000   &  1.0000000 &  1.0000000 &  1.000000  &  1.0000000\\\\\n",
       "\tPo1 & 0.6651553  &  1.00000   &  1.0000000 &  0.0000000 &  1.000000  &  1.0000000\\\\\n",
       "\tPo2 & 0.4490097  &  0.00000   &  0.0000000 &  1.0000000 &  0.000000  &  0.0000000\\\\\n",
       "\tLF & 0.2022374  &  0.00000   &  0.0000000 &  0.0000000 &  0.000000  &  0.0000000\\\\\n",
       "\tM.F & 0.2049659  &  0.00000   &  0.0000000 &  0.0000000 &  0.000000  &  0.0000000\\\\\n",
       "\tPop & 0.3696150  &  0.00000   &  0.0000000 &  0.0000000 &  1.000000  &  0.0000000\\\\\n",
       "\tNW & 0.6944069  &  1.00000   &  1.0000000 &  1.0000000 &  1.000000  &  0.0000000\\\\\n",
       "\tU1 & 0.2525834  &  0.00000   &  0.0000000 &  0.0000000 &  0.000000  &  0.0000000\\\\\n",
       "\tU2 & 0.6149388  &  1.00000   &  1.0000000 &  1.0000000 &  1.000000  &  1.0000000\\\\\n",
       "\tGDP & 0.3601179  &  0.00000   &  0.0000000 &  0.0000000 &  0.000000  &  0.0000000\\\\\n",
       "\tIneq & 0.9965359  &  1.00000   &  1.0000000 &  1.0000000 &  1.000000  &  1.0000000\\\\\n",
       "\tProb & 0.8991841  &  1.00000   &  1.0000000 &  1.0000000 &  1.000000  &  1.0000000\\\\\n",
       "\tTime & 0.3717976  &  1.00000   &  0.0000000 &  0.0000000 &  0.000000  &  0.0000000\\\\\n",
       "\tBF &        NA  &  1.00000   &  0.9416178 &  0.6369712 &  0.594453  &  0.5301269\\\\\n",
       "\tPostProbs &        NA  &  0.01820   &  0.0172000 &  0.0116000 &  0.010800  &  0.0097000\\\\\n",
       "\tR2 &        NA  &  0.84200   &  0.8265000 &  0.8229000 &  0.837500  &  0.8046000\\\\\n",
       "\tdim &        NA  &  9.00000   &  8.0000000 &  8.0000000 &  9.000000  &  7.0000000\\\\\n",
       "\tlogmarg &        NA  & 23.65111   & 23.5909572 & 23.2000822 & 23.130999  & 23.0164741\\\\\n",
       "\\end{tabular}\n"
      ],
      "text/markdown": [
       "\n",
       "| <!--/--> | P(B != 0 | Y) | model 1 | model 2 | model 3 | model 4 | model 5 |\n",
       "|---|---|---|---|---|---|---|\n",
       "| Intercept | 1.0000000  |  1.00000   |  1.0000000 |  1.0000000 |  1.000000  |  1.0000000 |\n",
       "| M | 0.8535720  |  1.00000   |  1.0000000 |  1.0000000 |  1.000000  |  1.0000000 |\n",
       "| So | 0.2737083  |  0.00000   |  0.0000000 |  0.0000000 |  0.000000  |  0.0000000 |\n",
       "| Ed | 0.9746605  |  1.00000   |  1.0000000 |  1.0000000 |  1.000000  |  1.0000000 |\n",
       "| Po1 | 0.6651553  |  1.00000   |  1.0000000 |  0.0000000 |  1.000000  |  1.0000000 |\n",
       "| Po2 | 0.4490097  |  0.00000   |  0.0000000 |  1.0000000 |  0.000000  |  0.0000000 |\n",
       "| LF | 0.2022374  |  0.00000   |  0.0000000 |  0.0000000 |  0.000000  |  0.0000000 |\n",
       "| M.F | 0.2049659  |  0.00000   |  0.0000000 |  0.0000000 |  0.000000  |  0.0000000 |\n",
       "| Pop | 0.3696150  |  0.00000   |  0.0000000 |  0.0000000 |  1.000000  |  0.0000000 |\n",
       "| NW | 0.6944069  |  1.00000   |  1.0000000 |  1.0000000 |  1.000000  |  0.0000000 |\n",
       "| U1 | 0.2525834  |  0.00000   |  0.0000000 |  0.0000000 |  0.000000  |  0.0000000 |\n",
       "| U2 | 0.6149388  |  1.00000   |  1.0000000 |  1.0000000 |  1.000000  |  1.0000000 |\n",
       "| GDP | 0.3601179  |  0.00000   |  0.0000000 |  0.0000000 |  0.000000  |  0.0000000 |\n",
       "| Ineq | 0.9965359  |  1.00000   |  1.0000000 |  1.0000000 |  1.000000  |  1.0000000 |\n",
       "| Prob | 0.8991841  |  1.00000   |  1.0000000 |  1.0000000 |  1.000000  |  1.0000000 |\n",
       "| Time | 0.3717976  |  1.00000   |  0.0000000 |  0.0000000 |  0.000000  |  0.0000000 |\n",
       "| BF |        NA  |  1.00000   |  0.9416178 |  0.6369712 |  0.594453  |  0.5301269 |\n",
       "| PostProbs |        NA  |  0.01820   |  0.0172000 |  0.0116000 |  0.010800  |  0.0097000 |\n",
       "| R2 |        NA  |  0.84200   |  0.8265000 |  0.8229000 |  0.837500  |  0.8046000 |\n",
       "| dim |        NA  |  9.00000   |  8.0000000 |  8.0000000 |  9.000000  |  7.0000000 |\n",
       "| logmarg |        NA  | 23.65111   | 23.5909572 | 23.2000822 | 23.130999  | 23.0164741 |\n",
       "\n"
      ],
      "text/plain": [
       "          P(B != 0 | Y) model 1  model 2    model 3    model 4   model 5   \n",
       "Intercept 1.0000000      1.00000  1.0000000  1.0000000  1.000000  1.0000000\n",
       "M         0.8535720      1.00000  1.0000000  1.0000000  1.000000  1.0000000\n",
       "So        0.2737083      0.00000  0.0000000  0.0000000  0.000000  0.0000000\n",
       "Ed        0.9746605      1.00000  1.0000000  1.0000000  1.000000  1.0000000\n",
       "Po1       0.6651553      1.00000  1.0000000  0.0000000  1.000000  1.0000000\n",
       "Po2       0.4490097      0.00000  0.0000000  1.0000000  0.000000  0.0000000\n",
       "LF        0.2022374      0.00000  0.0000000  0.0000000  0.000000  0.0000000\n",
       "M.F       0.2049659      0.00000  0.0000000  0.0000000  0.000000  0.0000000\n",
       "Pop       0.3696150      0.00000  0.0000000  0.0000000  1.000000  0.0000000\n",
       "NW        0.6944069      1.00000  1.0000000  1.0000000  1.000000  0.0000000\n",
       "U1        0.2525834      0.00000  0.0000000  0.0000000  0.000000  0.0000000\n",
       "U2        0.6149388      1.00000  1.0000000  1.0000000  1.000000  1.0000000\n",
       "GDP       0.3601179      0.00000  0.0000000  0.0000000  0.000000  0.0000000\n",
       "Ineq      0.9965359      1.00000  1.0000000  1.0000000  1.000000  1.0000000\n",
       "Prob      0.8991841      1.00000  1.0000000  1.0000000  1.000000  1.0000000\n",
       "Time      0.3717976      1.00000  0.0000000  0.0000000  0.000000  0.0000000\n",
       "BF               NA      1.00000  0.9416178  0.6369712  0.594453  0.5301269\n",
       "PostProbs        NA      0.01820  0.0172000  0.0116000  0.010800  0.0097000\n",
       "R2               NA      0.84200  0.8265000  0.8229000  0.837500  0.8046000\n",
       "dim              NA      9.00000  8.0000000  8.0000000  9.000000  7.0000000\n",
       "logmarg          NA     23.65111 23.5909572 23.2000822 23.130999 23.0164741"
      ]
     },
     "metadata": {},
     "output_type": "display_data"
    }
   ],
   "source": [
    "options(width = 80)\n",
    "summary(crime.ZS)"
   ]
  },
  {
   "cell_type": "code",
   "execution_count": 45,
   "id": "d9a1ea30",
   "metadata": {},
   "outputs": [
    {
     "data": {
      "image/png": "[encoded data removed]",
      "text/plain": [
       "plot without title"
      ]
     },
     "metadata": {
      "image/png": {
       "height": 420,
       "width": 420
      }
     },
     "output_type": "display_data"
    }
   ],
   "source": [
    "image(crime.ZS, rotate = F)"
   ]
  },
  {
   "cell_type": "code",
   "execution_count": 46,
   "id": "041cb82e",
   "metadata": {},
   "outputs": [],
   "source": [
    "coef.ZS <- coef(crime.ZS)"
   ]
  },
  {
   "cell_type": "code",
   "execution_count": 47,
   "id": "364aa8b2",
   "metadata": {},
   "outputs": [
    {
     "data": {
      "image/png": "[encoded data removed]",
      "text/plain": [
       "Plot with title \"Po1\""
      ]
     },
     "metadata": {
      "image/png": {
       "height": 420,
       "width": 420
      }
     },
     "output_type": "display_data"
    },
    {
     "data": {
      "image/png": "[encoded data removed]",
      "text/plain": [
       "Plot with title \"Po2\""
      ]
     },
     "metadata": {
      "image/png": {
       "height": 420,
       "width": 420
      }
     },
     "output_type": "display_data"
    }
   ],
   "source": [
    "plot(coef.ZS, subset = c(5:6), ask = F)"
   ]
  },
  {
   "cell_type": "code",
   "execution_count": 48,
   "id": "07278bc3",
   "metadata": {},
   "outputs": [
    {
     "data": {
      "text/plain": [
       "                   2.5%        97.5%        beta\n",
       "Intercept  6.6664509035 6.7808055915  6.72493620\n",
       "M          0.0000000000 2.1945632652  1.14359433\n",
       "So        -0.0484483246 0.3146559024  0.03547522\n",
       "Ed         0.6164311846 3.1687309261  1.85848834\n",
       "Po1       -0.0006582864 1.4533977461  0.60067372\n",
       "Po2       -0.2093887954 1.4771530647  0.31841766\n",
       "LF        -0.5559286910 0.9951780232  0.05933737\n",
       "M.F       -2.0790694377 1.9760282963 -0.02702786\n",
       "Pop       -0.1284871962 0.0028451797 -0.02248283\n",
       "NW         0.0000000000 0.1660304323  0.06668437\n",
       "U1        -0.5169144266 0.3618085608 -0.02456854\n",
       "U2        -0.0017258753 0.6806110579  0.20702927\n",
       "GDP       -0.0507588432 1.1663527994  0.20625063\n",
       "Ineq       0.6921374162 2.1366711374  1.39012647\n",
       "Prob      -0.4136879229 0.0001489313 -0.21536203\n",
       "Time      -0.5232298290 0.0540941723 -0.08433479\n",
       "attr(,\"Probability\")\n",
       "[1] 0.95\n",
       "attr(,\"class\")\n",
       "[1] \"confint.bas\""
      ]
     },
     "metadata": {},
     "output_type": "display_data"
    }
   ],
   "source": [
    "confint(coef.ZS)"
   ]
  },
  {
   "cell_type": "code",
   "execution_count": 49,
   "id": "8e6d9960",
   "metadata": {},
   "outputs": [
    {
     "data": {
      "text/plain": [
       "NULL"
      ]
     },
     "metadata": {},
     "output_type": "display_data"
    },
    {
     "data": {
      "image/png": "[encoded data removed]",
      "text/plain": [
       "plot without title"
      ]
     },
     "metadata": {
      "image/png": {
       "height": 420,
       "width": 420
      }
     },
     "output_type": "display_data"
    }
   ],
   "source": [
    "plot(confint(coef.ZS, parm = 2:16))"
   ]
  },
  {
   "cell_type": "code",
   "execution_count": 50,
   "id": "5c8c6c9f",
   "metadata": {},
   "outputs": [
    {
     "data": {
      "text/plain": [
       "NULL"
      ]
     },
     "metadata": {},
     "output_type": "display_data"
    },
    {
     "data": {
      "image/png": "[encoded data removed]",
      "text/plain": [
       "plot without title"
      ]
     },
     "metadata": {
      "image/png": {
       "height": 420,
       "width": 420
      }
     },
     "output_type": "display_data"
    }
   ],
   "source": [
    "plot(confint(coef(crime.ZS, estimator = \"HPM\")))"
   ]
  },
  {
   "cell_type": "code",
   "execution_count": 51,
   "id": "cf0bc957",
   "metadata": {},
   "outputs": [
    {
     "data": {
      "text/plain": [
       "NULL"
      ]
     },
     "metadata": {},
     "output_type": "display_data"
    },
    {
     "data": {
      "image/png": "[encoded data removed]",
      "text/plain": [
       "plot without title"
      ]
     },
     "metadata": {
      "image/png": {
       "height": 420,
       "width": 420
      }
     },
     "output_type": "display_data"
    }
   ],
   "source": [
    "plot(confint(coef(crime.ZS, estimator = \"MPM\")))"
   ]
  },
  {
   "cell_type": "code",
   "execution_count": 52,
   "id": "fd7bd3b4",
   "metadata": {},
   "outputs": [
    {
     "data": {
      "text/html": [
       "<ol class=list-inline>\n",
       "\t<li>'fit'</li>\n",
       "\t<li>'Ybma'</li>\n",
       "\t<li>'Ypred'</li>\n",
       "\t<li>'postprobs'</li>\n",
       "\t<li>'se.fit'</li>\n",
       "\t<li>'se.pred'</li>\n",
       "\t<li>'se.bma.fit'</li>\n",
       "\t<li>'se.bma.pred'</li>\n",
       "\t<li>'df'</li>\n",
       "\t<li>'best'</li>\n",
       "\t<li>'bestmodel'</li>\n",
       "\t<li>'best.vars'</li>\n",
       "\t<li>'estimator'</li>\n",
       "</ol>\n"
      ],
      "text/latex": [
       "\\begin{enumerate*}\n",
       "\\item 'fit'\n",
       "\\item 'Ybma'\n",
       "\\item 'Ypred'\n",
       "\\item 'postprobs'\n",
       "\\item 'se.fit'\n",
       "\\item 'se.pred'\n",
       "\\item 'se.bma.fit'\n",
       "\\item 'se.bma.pred'\n",
       "\\item 'df'\n",
       "\\item 'best'\n",
       "\\item 'bestmodel'\n",
       "\\item 'best.vars'\n",
       "\\item 'estimator'\n",
       "\\end{enumerate*}\n"
      ],
      "text/markdown": [
       "1. 'fit'\n",
       "2. 'Ybma'\n",
       "3. 'Ypred'\n",
       "4. 'postprobs'\n",
       "5. 'se.fit'\n",
       "6. 'se.pred'\n",
       "7. 'se.bma.fit'\n",
       "8. 'se.bma.pred'\n",
       "9. 'df'\n",
       "10. 'best'\n",
       "11. 'bestmodel'\n",
       "12. 'best.vars'\n",
       "13. 'estimator'\n",
       "\n",
       "\n"
      ],
      "text/plain": [
       " [1] \"fit\"         \"Ybma\"        \"Ypred\"       \"postprobs\"   \"se.fit\"     \n",
       " [6] \"se.pred\"     \"se.bma.fit\"  \"se.bma.pred\" \"df\"          \"best\"       \n",
       "[11] \"bestmodel\"   \"best.vars\"   \"estimator\"  "
      ]
     },
     "metadata": {},
     "output_type": "display_data"
    }
   ],
   "source": [
    "muhat.BMA <- fitted(crime.ZS, estimator = \"BMA\")\n",
    "BMA <- predict(crime.ZS, estimator = \"BMA\")\n",
    "\n",
    "# predict has additional slots for fitted values under BMA, predictions under each model\n",
    "names(BMA)"
   ]
  },
  {
   "cell_type": "code",
   "execution_count": 53,
   "id": "f5e11d29",
   "metadata": {},
   "outputs": [
    {
     "data": {
      "image/png": "[encoded data removed]",
      "text/plain": [
       "plot without title"
      ]
     },
     "metadata": {
      "image/png": {
       "height": 420,
       "width": 420
      }
     },
     "output_type": "display_data"
    }
   ],
   "source": [
    "par(mar = c(9, 9, 3, 3))\n",
    "plot(muhat.BMA, BMA$fit,\n",
    "  pch = 16,\n",
    "  xlab = expression(hat(mu[i])), ylab = expression(hat(Y[i]))\n",
    ")\n",
    "abline(0, 1)"
   ]
  },
  {
   "cell_type": "code",
   "execution_count": 54,
   "id": "1d6ce311",
   "metadata": {},
   "outputs": [
    {
     "data": {
      "text/html": [
       "<ol class=list-inline>\n",
       "\t<li>0</li>\n",
       "\t<li>1</li>\n",
       "\t<li>3</li>\n",
       "\t<li>4</li>\n",
       "\t<li>9</li>\n",
       "\t<li>11</li>\n",
       "\t<li>13</li>\n",
       "\t<li>14</li>\n",
       "\t<li>15</li>\n",
       "</ol>\n"
      ],
      "text/latex": [
       "\\begin{enumerate*}\n",
       "\\item 0\n",
       "\\item 1\n",
       "\\item 3\n",
       "\\item 4\n",
       "\\item 9\n",
       "\\item 11\n",
       "\\item 13\n",
       "\\item 14\n",
       "\\item 15\n",
       "\\end{enumerate*}\n"
      ],
      "text/markdown": [
       "1. 0\n",
       "2. 1\n",
       "3. 3\n",
       "4. 4\n",
       "5. 9\n",
       "6. 11\n",
       "7. 13\n",
       "8. 14\n",
       "9. 15\n",
       "\n",
       "\n"
      ],
      "text/plain": [
       "[1]  0  1  3  4  9 11 13 14 15"
      ]
     },
     "metadata": {},
     "output_type": "display_data"
    }
   ],
   "source": [
    "HPM <- predict(crime.ZS, estimator = \"HPM\")\n",
    "\n",
    "# show the indices of variables in the best model where 0 is the intercept\n",
    "HPM$bestmodel"
   ]
  },
  {
   "cell_type": "code",
   "execution_count": 55,
   "id": "c303803f",
   "metadata": {},
   "outputs": [
    {
     "data": {
      "text/html": [
       "<ol class=list-inline>\n",
       "\t<li>'Intercept'</li>\n",
       "\t<li>'M'</li>\n",
       "\t<li>'Ed'</li>\n",
       "\t<li>'Po1'</li>\n",
       "\t<li>'NW'</li>\n",
       "\t<li>'U2'</li>\n",
       "\t<li>'Ineq'</li>\n",
       "\t<li>'Prob'</li>\n",
       "\t<li>'Time'</li>\n",
       "</ol>\n"
      ],
      "text/latex": [
       "\\begin{enumerate*}\n",
       "\\item 'Intercept'\n",
       "\\item 'M'\n",
       "\\item 'Ed'\n",
       "\\item 'Po1'\n",
       "\\item 'NW'\n",
       "\\item 'U2'\n",
       "\\item 'Ineq'\n",
       "\\item 'Prob'\n",
       "\\item 'Time'\n",
       "\\end{enumerate*}\n"
      ],
      "text/markdown": [
       "1. 'Intercept'\n",
       "2. 'M'\n",
       "3. 'Ed'\n",
       "4. 'Po1'\n",
       "5. 'NW'\n",
       "6. 'U2'\n",
       "7. 'Ineq'\n",
       "8. 'Prob'\n",
       "9. 'Time'\n",
       "\n",
       "\n"
      ],
      "text/plain": [
       "[1] \"Intercept\" \"M\"         \"Ed\"        \"Po1\"       \"NW\"        \"U2\"       \n",
       "[7] \"Ineq\"      \"Prob\"      \"Time\"     "
      ]
     },
     "metadata": {},
     "output_type": "display_data"
    }
   ],
   "source": [
    "variable.names(HPM)"
   ]
  },
  {
   "cell_type": "code",
   "execution_count": 56,
   "id": "46dbc6ed",
   "metadata": {},
   "outputs": [
    {
     "data": {
      "text/html": [
       "<ol class=list-inline>\n",
       "\t<li>'Intercept'</li>\n",
       "\t<li>'M'</li>\n",
       "\t<li>'Ed'</li>\n",
       "\t<li>'Po1'</li>\n",
       "\t<li>'NW'</li>\n",
       "\t<li>'U2'</li>\n",
       "\t<li>'Ineq'</li>\n",
       "\t<li>'Prob'</li>\n",
       "</ol>\n"
      ],
      "text/latex": [
       "\\begin{enumerate*}\n",
       "\\item 'Intercept'\n",
       "\\item 'M'\n",
       "\\item 'Ed'\n",
       "\\item 'Po1'\n",
       "\\item 'NW'\n",
       "\\item 'U2'\n",
       "\\item 'Ineq'\n",
       "\\item 'Prob'\n",
       "\\end{enumerate*}\n"
      ],
      "text/markdown": [
       "1. 'Intercept'\n",
       "2. 'M'\n",
       "3. 'Ed'\n",
       "4. 'Po1'\n",
       "5. 'NW'\n",
       "6. 'U2'\n",
       "7. 'Ineq'\n",
       "8. 'Prob'\n",
       "\n",
       "\n"
      ],
      "text/plain": [
       "[1] \"Intercept\" \"M\"         \"Ed\"        \"Po1\"       \"NW\"        \"U2\"       \n",
       "[7] \"Ineq\"      \"Prob\"     "
      ]
     },
     "metadata": {},
     "output_type": "display_data"
    }
   ],
   "source": [
    "MPM <- predict(crime.ZS, estimator = \"MPM\")\n",
    "variable.names(MPM)"
   ]
  },
  {
   "cell_type": "code",
   "execution_count": 57,
   "id": "9e731cf1",
   "metadata": {},
   "outputs": [
    {
     "data": {
      "text/html": [
       "<ol class=list-inline>\n",
       "\t<li>'Intercept'</li>\n",
       "\t<li>'M'</li>\n",
       "\t<li>'So'</li>\n",
       "\t<li>'Ed'</li>\n",
       "\t<li>'Po1'</li>\n",
       "\t<li>'Po2'</li>\n",
       "\t<li>'M.F'</li>\n",
       "\t<li>'NW'</li>\n",
       "\t<li>'U2'</li>\n",
       "\t<li>'Ineq'</li>\n",
       "\t<li>'Prob'</li>\n",
       "</ol>\n"
      ],
      "text/latex": [
       "\\begin{enumerate*}\n",
       "\\item 'Intercept'\n",
       "\\item 'M'\n",
       "\\item 'So'\n",
       "\\item 'Ed'\n",
       "\\item 'Po1'\n",
       "\\item 'Po2'\n",
       "\\item 'M.F'\n",
       "\\item 'NW'\n",
       "\\item 'U2'\n",
       "\\item 'Ineq'\n",
       "\\item 'Prob'\n",
       "\\end{enumerate*}\n"
      ],
      "text/markdown": [
       "1. 'Intercept'\n",
       "2. 'M'\n",
       "3. 'So'\n",
       "4. 'Ed'\n",
       "5. 'Po1'\n",
       "6. 'Po2'\n",
       "7. 'M.F'\n",
       "8. 'NW'\n",
       "9. 'U2'\n",
       "10. 'Ineq'\n",
       "11. 'Prob'\n",
       "\n",
       "\n"
      ],
      "text/plain": [
       " [1] \"Intercept\" \"M\"         \"So\"        \"Ed\"        \"Po1\"       \"Po2\"      \n",
       " [7] \"M.F\"       \"NW\"        \"U2\"        \"Ineq\"      \"Prob\"     "
      ]
     },
     "metadata": {},
     "output_type": "display_data"
    }
   ],
   "source": [
    "BPM <- predict(crime.ZS, estimator = \"BPM\")\n",
    "variable.names(BPM)"
   ]
  },
  {
   "cell_type": "code",
   "execution_count": 59,
   "id": "82c7605e",
   "metadata": {},
   "outputs": [
    {
     "name": "stderr",
     "output_type": "stream",
     "text": [
      "also installing the dependencies 'isoband', 'glue', 'tibble', 'tidyselect', 'pillar', 'farver', 'ggplot2', 'dplyr', 'reshape', 'scales'\n",
      "\n",
      "\n"
     ]
    },
    {
     "name": "stdout",
     "output_type": "stream",
     "text": [
      "\n",
      "  There are binary versions available but the source versions are later:\n",
      "        binary source needs_compilation\n",
      "isoband  0.2.4  0.2.5              TRUE\n",
      "glue     1.4.2  1.5.1              TRUE\n",
      "tibble   3.1.1  3.1.6              TRUE\n",
      "pillar   1.6.0  1.6.4             FALSE\n",
      "ggplot2  3.3.3  3.3.5             FALSE\n",
      "dplyr    1.0.6  1.0.7              TRUE\n",
      "GGally   2.1.1  2.1.2             FALSE\n",
      "\n",
      "  Binaries will be installed\n",
      "package 'isoband' successfully unpacked and MD5 sums checked\n",
      "package 'glue' successfully unpacked and MD5 sums checked\n",
      "package 'tibble' successfully unpacked and MD5 sums checked\n",
      "package 'tidyselect' successfully unpacked and MD5 sums checked\n",
      "package 'farver' successfully unpacked and MD5 sums checked\n",
      "package 'dplyr' successfully unpacked and MD5 sums checked\n",
      "package 'reshape' successfully unpacked and MD5 sums checked\n",
      "package 'scales' successfully unpacked and MD5 sums checked\n",
      "\n",
      "The downloaded binary packages are in\n",
      "\tC:\\Users\\waelr\\AppData\\Local\\Temp\\Rtmp0WIQHf\\downloaded_packages\n"
     ]
    },
    {
     "name": "stderr",
     "output_type": "stream",
     "text": [
      "installing the source packages 'pillar', 'ggplot2', 'GGally'\n",
      "\n",
      "\n"
     ]
    }
   ],
   "source": [
    "install.packages(\"GGally\")"
   ]
  },
  {
   "cell_type": "code",
   "execution_count": 60,
   "id": "1be7508c",
   "metadata": {},
   "outputs": [
    {
     "name": "stderr",
     "output_type": "stream",
     "text": [
      "Registered S3 method overwritten by 'GGally':\n",
      "  method from   \n",
      "  +.gg   ggplot2\n",
      "\n"
     ]
    },
    {
     "data": {
      "image/png": "[encoded data removed]",
      "text/plain": [
       "plot without title"
      ]
     },
     "metadata": {
      "image/png": {
       "height": 420,
       "width": 420
      }
     },
     "output_type": "display_data"
    }
   ],
   "source": [
    "GGally::ggpairs(data.frame(\n",
    "  HPM = as.vector(HPM$fit), # this used predict so we need to extract fitted values\n",
    "  MPM = as.vector(MPM$fit), # this used fitted\n",
    "  BPM = as.vector(BPM$fit), # this used fitted\n",
    "  BMA = as.vector(BMA$fit)\n",
    ")) # this used predict"
   ]
  },
  {
   "cell_type": "code",
   "execution_count": 61,
   "id": "b9161fac",
   "metadata": {},
   "outputs": [
    {
     "data": {
      "text/plain": [
       "NULL"
      ]
     },
     "metadata": {},
     "output_type": "display_data"
    },
    {
     "data": {
      "image/png": "[encoded data removed]",
      "text/plain": [
       "plot without title"
      ]
     },
     "metadata": {
      "image/png": {
       "height": 420,
       "width": 420
      }
     },
     "output_type": "display_data"
    }
   ],
   "source": [
    "BPM <- predict(crime.ZS, estimator = \"BPM\", se.fit = TRUE)\n",
    "crime.conf.fit <- confint(BPM, parm = \"mean\")\n",
    "crime.conf.pred <- confint(BPM, parm = \"pred\")\n",
    "plot(crime.conf.fit)"
   ]
  },
  {
   "cell_type": "code",
   "execution_count": 62,
   "id": "957388e0",
   "metadata": {},
   "outputs": [
    {
     "data": {
      "text/plain": [
       "NULL"
      ]
     },
     "metadata": {},
     "output_type": "display_data"
    },
    {
     "data": {
      "image/png": "[encoded data removed]",
      "text/plain": [
       "plot without title"
      ]
     },
     "metadata": {
      "image/png": {
       "height": 420,
       "width": 420
      }
     },
     "output_type": "display_data"
    }
   ],
   "source": [
    "plot(crime.conf.pred)"
   ]
  },
  {
   "cell_type": "code",
   "execution_count": 63,
   "id": "34bcc19a",
   "metadata": {},
   "outputs": [],
   "source": [
    "new.pred <- predict(crime.ZS, newdata = UScrime, estimator = \"MPM\")"
   ]
  },
  {
   "cell_type": "code",
   "execution_count": 64,
   "id": "1d34f4b9",
   "metadata": {},
   "outputs": [
    {
     "data": {
      "text/plain": [
       "   user  system elapsed \n",
       "   3.86    0.00    3.86 "
      ]
     },
     "metadata": {},
     "output_type": "display_data"
    }
   ],
   "source": [
    "system.time(\n",
    "  for (i in 1:10) {\n",
    "    crime.ZS <- bas.lm(y ~ .,\n",
    "      data = UScrime,\n",
    "      prior = \"ZS-null\", method = \"BAS\",\n",
    "      modelprior = uniform(), initprobs = \"eplogp\"\n",
    "    )\n",
    "  }\n",
    ")"
   ]
  },
  {
   "cell_type": "code",
   "execution_count": 65,
   "id": "882cc326",
   "metadata": {},
   "outputs": [
    {
     "data": {
      "text/plain": [
       "   user  system elapsed \n",
       "   3.84    0.00    3.86 "
      ]
     },
     "metadata": {},
     "output_type": "display_data"
    }
   ],
   "source": [
    "system.time(\n",
    "  for (i in 1:10) {\n",
    "    crime.ZS <- bas.lm(y ~ .,\n",
    "      data = UScrime,\n",
    "      prior = \"ZS-null\", method = \"deterministic\",\n",
    "      modelprior = uniform(), initprobs = \"eplogp\"\n",
    "    )\n",
    "  }\n",
    ")"
   ]
  },
  {
   "cell_type": "code",
   "execution_count": 66,
   "id": "5fcea777",
   "metadata": {},
   "outputs": [],
   "source": [
    "crime.ZS <- bas.lm(y ~ .,\n",
    "  data = UScrime,\n",
    "  prior = \"ZS-null\",\n",
    "  modelprior = uniform(),\n",
    "  method = \"MCMC\"\n",
    ")"
   ]
  },
  {
   "cell_type": "code",
   "execution_count": 67,
   "id": "0fabc33d",
   "metadata": {},
   "outputs": [
    {
     "data": {
      "image/png": "[encoded data removed]",
      "text/plain": [
       "Plot with title \"Convergence Plot: Posterior Inclusion Probabilities\""
      ]
     },
     "metadata": {
      "image/png": {
       "height": 420,
       "width": 420
      }
     },
     "output_type": "display_data"
    }
   ],
   "source": [
    "diagnostics(crime.ZS, type = \"pip\", pch = 16)"
   ]
  },
  {
   "cell_type": "code",
   "execution_count": 68,
   "id": "31493500",
   "metadata": {},
   "outputs": [
    {
     "data": {
      "image/png": "[encoded data removed]",
      "text/plain": [
       "Plot with title \"Convergence Plot: Posterior Model Probabilities\""
      ]
     },
     "metadata": {
      "image/png": {
       "height": 420,
       "width": 420
      }
     },
     "output_type": "display_data"
    }
   ],
   "source": [
    "diagnostics(crime.ZS, type = \"model\", pch = 16)"
   ]
  },
  {
   "cell_type": "code",
   "execution_count": 69,
   "id": "0251ab46",
   "metadata": {},
   "outputs": [
    {
     "data": {
      "image/png": "[encoded data removed]",
      "text/plain": [
       "Plot with title \"Convergence Plot: Posterior Model Probabilities\""
      ]
     },
     "metadata": {
      "image/png": {
       "height": 420,
       "width": 420
      }
     },
     "output_type": "display_data"
    }
   ],
   "source": [
    "crime.ZS <- bas.lm(y ~ .,\n",
    "  data = UScrime,\n",
    "  prior = \"ZS-null\",\n",
    "  modelprior = uniform(),\n",
    "  method = \"MCMC\", MCMC.iterations = 10^6\n",
    ")\n",
    "\n",
    "diagnostics(crime.ZS, type=\"model\", pch=16)"
   ]
  },
  {
   "cell_type": "code",
   "execution_count": 70,
   "id": "18a638a1",
   "metadata": {},
   "outputs": [],
   "source": [
    "data(\"stackloss\")\n",
    "stackloss <- cbind(stackloss, diag(nrow(stackloss)))\n",
    "stack.bas <- bas.lm(stack.loss ~ .,\n",
    "  data = stackloss,\n",
    "  method = \"MCMC\", initprobs = \"marg-eplogp\",\n",
    "  prior = \"ZS-null\",\n",
    "  modelprior = tr.poisson(4, 10),\n",
    "  MCMC.iterations = 200000\n",
    ")"
   ]
  },
  {
   "cell_type": "code",
   "execution_count": 71,
   "id": "42681917",
   "metadata": {},
   "outputs": [
    {
     "ename": "ERROR",
     "evalue": "Error in library.dynam(lib, package, package.lib): DLL 'xfun' not found: maybe not installed for this architecture?\n",
     "output_type": "error",
     "traceback": [
      "Error in library.dynam(lib, package, package.lib): DLL 'xfun' not found: maybe not installed for this architecture?\nTraceback:\n",
      "1. knitr::kable",
      "2. getExportedValue(pkg, name)",
      "3. asNamespace(ns)",
      "4. getNamespace(ns)",
      "5. loadNamespace(name)",
      "6. namespaceImportFrom(ns, loadNamespace(j <- i[[1L]], c(lib.loc, \n .     .libPaths()), versionCheck = vI[[j]]), i[[2L]], from = package)",
      "7. asNamespace(ns)",
      "8. loadNamespace(j <- i[[1L]], c(lib.loc, .libPaths()), versionCheck = vI[[j]])",
      "9. library.dynam(lib, package, package.lib)",
      "10. stop(gettextf(\"DLL %s not found: maybe not installed for this architecture?\", \n  .     sQuote(chname)), domain = NA)"
     ]
    }
   ],
   "source": [
    "knitr::kable(as.data.frame(summary(stack.bas)))"
   ]
  },
  {
   "cell_type": "code",
   "execution_count": null,
   "id": "ece880d0",
   "metadata": {},
   "outputs": [],
   "source": []
  }
 ],
 "metadata": {
  "kernelspec": {
   "display_name": "R",
   "language": "R",
   "name": "ir"
  },
  "language_info": {
   "codemirror_mode": "r",
   "file_extension": ".r",
   "mimetype": "text/x-r-source",
   "name": "R",
   "pygments_lexer": "r",
   "version": "3.6.3"
  }
 },
 "nbformat": 4,
 "nbformat_minor": 5
}
